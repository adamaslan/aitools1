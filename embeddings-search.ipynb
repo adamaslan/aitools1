{
 "cells": [
  {
   "cell_type": "code",
   "execution_count": null,
   "metadata": {},
   "outputs": [
    {
     "ename": "",
     "evalue": "",
     "output_type": "error",
     "traceback": [
      "\u001b[1;31mThe Kernel crashed while executing code in the current cell or a previous cell. \n",
      "\u001b[1;31mPlease review the code in the cell(s) to identify a possible cause of the failure. \n",
      "\u001b[1;31mClick <a href='https://aka.ms/vscodeJupyterKernelCrash'>here</a> for more info. \n",
      "\u001b[1;31mView Jupyter <a href='command:jupyter.viewOutput'>log</a> for further details."
     ]
    }
   ],
   "source": [
    "import faiss\n",
    "import numpy as np\n",
    "\n",
    "# Load your FAISS index\n",
    "index = faiss.read_index(\"articles2.faiss\")  # Replace with the path to your FAISS index\")\n",
    "\n",
    "# Function to get recommendations using FAISS\n",
    "def get_recommendations_faiss(query_embedding, index, n_recommendations=3):\n",
    "    # Convert the embedding to a numpy array and add a dimension\n",
    "    query_vector = np.array([query_embedding])\n",
    "\n",
    "    # Search the index for the most similar embeddings\n",
    "    distances, indices = index.search(query_vector, n_recommendations)\n",
    "\n",
    "    return list(zip(indices[0], distances[0]))\n",
    "\n",
    "# Example usage:\n",
    "# Assuming you have a query embedding\n",
    "query_embedding = np.random.rand(index.d).astype('float32')  # Replace with your actual query embedding\n",
    "recommendations = get_recommendations_faiss(query_embedding, index)\n",
    "\n",
    "print(\"Recommendations:\")\n",
    "for idx, similarity in recommendations:\n",
    "    print(f\"Index: {idx}, Similarity: {similarity:.2f}\") \n"
   ]
  }
 ],
 "metadata": {
  "kernelspec": {
   "display_name": "nunu24",
   "language": "python",
   "name": "python3"
  },
  "language_info": {
   "codemirror_mode": {
    "name": "ipython",
    "version": 3
   },
   "file_extension": ".py",
   "mimetype": "text/x-python",
   "name": "python",
   "nbconvert_exporter": "python",
   "pygments_lexer": "ipython3",
   "version": "3.12.7"
  }
 },
 "nbformat": 4,
 "nbformat_minor": 2
}
