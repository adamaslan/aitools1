{
 "cells": [
  {
   "cell_type": "code",
   "execution_count": null,
   "metadata": {
    "vscode": {
     "languageId": "plaintext"
    }
   },
   "outputs": [],
   "source": [
    "import pickle\n",
    "from sentence_transformers import SentenceTransformer\n",
    "\n",
    "# 1. Load your data from the pickle file (assuming it contains a list of strings)\n",
    "with open('your_data.pkl', 'rb') as f:\n",
    "    data = pickle.load(f)\n",
    "\n",
    "# Optionally, check what you've loaded\n",
    "print(f\"Loaded data type: {type(data)}\")\n",
    "print(f\"Sample data: {data[:3]}\")  # print first three items\n",
    "\n",
    "# 2. Initialize the embedding model (replace with your desired model)\n",
    "model = SentenceTransformer('all-MiniLM-L6-v2')\n",
    "\n",
    "# 3. Generate embeddings from the loaded data\n",
    "embeddings = model.encode(data, show_progress_bar=True)\n",
    "\n",
    "# Verify the shape of the embeddings (should be [number of items, embedding dimension])\n",
    "print(\"Embeddings shape:\", embeddings.shape)\n"
   ]
  }
 ],
 "metadata": {
  "language_info": {
   "name": "python"
  }
 },
 "nbformat": 4,
 "nbformat_minor": 2
}
