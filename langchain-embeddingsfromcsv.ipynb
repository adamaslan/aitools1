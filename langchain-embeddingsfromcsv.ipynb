{
 "cells": [
  {
   "cell_type": "code",
   "execution_count": null,
   "metadata": {},
   "outputs": [],
   "source": [
    "#csv to embeddings\n",
    "import pandas as pd\n",
    "from langchain_huggingface.embeddings import HuggingFaceEmbeddings\n",
    "\n",
    "# Load the CSV file\n",
    "file_path = 'articles.csv'\n",
    "try:\n",
    "    df = pd.read_csv(file_path)\n",
    "except FileNotFoundError:\n",
    "    print(f\"File not found: {file_path}\")\n",
    "    raise\n",
    "\n",
    "# Ensure the 'articles' column exists\n",
    "text_column = 'articles'  # Update this based on the actual column name\n",
    "if text_column not in df.columns:\n",
    "    raise KeyError(f\"Column '{text_column}' not found in the DataFrame. Available columns: {df.columns}\")\n",
    "\n",
    "# Initialize the HuggingFaceEmbeddings model\n",
    "embedding_model_name = \"sentence-transformers/all-MiniLM-L6-v2\"\n",
    "embeddings = HuggingFaceEmbeddings(model_name=embedding_model_name)\n",
    "\n",
    "# Generate embeddings\n",
    "def generate_embeddings(texts):\n",
    "    return [embeddings.embed_query(text) for text in texts]\n",
    "\n",
    "df['embeddings'] = generate_embeddings(df[text_column])\n",
    "\n",
    "# Save the embeddings to a CSV file\n",
    "output_file = 'embeddings.csv'\n",
    "df[[text_column, 'embeddings']].to_csv(output_file, index=False)\n",
    "print(f\"Embeddings saved to {output_file}\")\n"
   ]
  }
 ],
 "metadata": {
  "kernelspec": {
   "display_name": "nunu24",
   "language": "python",
   "name": "python3"
  },
  "language_info": {
   "name": "python",
   "version": "3.12.7"
  }
 },
 "nbformat": 4,
 "nbformat_minor": 2
}
