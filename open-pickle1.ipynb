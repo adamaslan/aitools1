{
 "cells": [
  {
   "cell_type": "code",
   "execution_count": null,
   "metadata": {},
   "outputs": [],
   "source": [
    "import pickle\n",
    "\n",
    "def display_pickle_contents(filepath):\n",
    "    \"\"\"Displays the contents of a pickle file in a Jupyter cell.\n",
    "\n",
    "    Handles various data structures gracefully, including nested structures.\n",
    "    \"\"\"\n",
    "    try:\n",
    "        with open(filepath, 'rb') as f:\n",
    "            data = pickle.load(f)\n",
    "\n",
    "        if isinstance(data, (list, tuple, set)):\n",
    "            for item in data:\n",
    "                print(item)  # Print each item on a new line\n",
    "        elif isinstance(data, dict):\n",
    "            for key, value in data.items():\n",
    "                print(f\"{key}: {value}\") # Print key-value pairs\n",
    "        elif isinstance(data, (int, float, str, bool)): #basic data types\n",
    "            print(data)\n",
    "        elif hasattr(data, '__dict__'): # For custom objects with a __dict__\n",
    "            print(data.__dict__)\n",
    "        else: # Try to print it, handle exceptions if it doesn't work\n",
    "            try:\n",
    "               print(data)\n",
    "            except Exception as e:\n",
    "                print(f\"Could not display contents directly. Type: {type(data)}.  Consider inspecting further. Error: {e}\")\n",
    "                print(f\"Consider inspecting further using:  `import pprint; pprint.pprint(data)`\") # Suggest pprint\n",
    "\n",
    "\n",
    "    except FileNotFoundError:\n",
    "        print(f\"Error: File not found at {filepath}\")\n",
    "    except pickle.UnpicklingError:\n",
    "        print(f\"Error: Could not unpickle the file at {filepath}.  The file might be corrupted or created with a different pickle protocol.\")\n",
    "    except Exception as e: # Catching other potential issues\n",
    "        print(f\"An unexpected error occurred: {e}\")\n",
    "\n",
    "\n",
    "\n",
    "# Example usage:\n",
    "filepath = 'my_data.pkl'  # Replace with your pickle file's path\n",
    "display_pickle_contents(filepath)\n",
    "\n",
    "# Example using pprint for more complex nested objects\n",
    "import pprint\n",
    "with open(filepath, 'rb') as f:\n",
    "    data = pickle.load(f)\n",
    "pprint.pprint(data) #For more complex nested objects"
   ]
  }
 ],
 "metadata": {
  "kernelspec": {
   "display_name": "nunu24",
   "language": "python",
   "name": "python3"
  },
  "language_info": {
   "name": "python",
   "version": "3.12.7"
  }
 },
 "nbformat": 4,
 "nbformat_minor": 2
}
